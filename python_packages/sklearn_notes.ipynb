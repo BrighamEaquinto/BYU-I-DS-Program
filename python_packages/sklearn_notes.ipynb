{
  "cells": [
    {
      "cell_type": "raw",
      "metadata": {},
      "source": [
        "---\n",
        "title: \"Sklearn\"\n",
        "date: \"July 2022\"\n",
        "format: \n",
        "  html:\n",
        "    toc: true \n",
        "    toc-depth: 5\n",
        "    toc-location: right\n",
        "    code-tools: true  \n",
        "    code-copy: true\n",
        "    code-fold: false\n",
        "    self-contained: true\n",
        "    anchor-sections: false\n",
        "    theme: cerulean\n",
        "---"
      ],
      "id": "5fd7e51b"
    },
    {
      "cell_type": "code",
      "metadata": {},
      "source": [
        "import sklearn\n",
        "import pandas as pd\n",
        "\n",
        "iris = (\n",
        "    pd.read_csv(\"https://gist.github.com/curran/a08a1080b88344b0c8a7/raw/0e7a9b0a5d22642a06d3d5b9bcbad9890c8ee534/iris.csv\")\n",
        "    .rename(columns = \n",
        "        {'sepal_length':\"Sepal.Length\", \n",
        "        'sepal_width':\"Sepal.Width\", \n",
        "        'petal_length':\"Petal.Length\", \n",
        "        'petal_width':\"Petal.Width\",\n",
        "        'species':\"Species\"\n",
        "        })\n",
        ")"
      ],
      "id": "04152cbf",
      "execution_count": null,
      "outputs": []
    },
    {
      "cell_type": "code",
      "metadata": {},
      "source": [
        "from sklearn.svm import SVC\n",
        "from sklearn.preprocessing import StandardScaler\n",
        "from sklearn.datasets import make_classification\n",
        "from sklearn.model_selection import train_test_split\n",
        "from sklearn.pipeline import Pipeline\n",
        "\n",
        "from sklearn.metrics import accuracy_score\n",
        "from sklearn.metrics import precision_score\n",
        "from sklearn.metrics import recall_score\n",
        "from sklearn.metrics import f1_score\n",
        "from sklearn.metrics import roc_auc_score\n",
        "\n",
        "features = iris.drop([\"Species\"], axis = 1) \n",
        "target = iris.filter([\"Species\"], axis = 1)\n",
        "\n",
        "X_train, X_test, y_train, y_test = train_test_split(features, target, random_state=0)\n",
        "pipe = Pipeline([('scaler', StandardScaler()), ('svc', SVC())])\n",
        "# The pipeline can be used as any other estimator\n",
        "# and avoids leaking the test set into the train set\n",
        "pipe.fit(X_train, y_train)\n",
        "\n",
        "# pipe.accuracy_score(X_test, y_test)\n",
        "# pipe.precision_score(X_test, y_test)\n",
        "# pipe.recall_score(X_test, y_test)\n",
        "# pipe.f1_score(X_test, y_test)\n",
        "# pipe.roc_auc_score(X_test, y_test)"
      ],
      "id": "b6d1bc11",
      "execution_count": null,
      "outputs": []
    },
    {
      "cell_type": "markdown",
      "metadata": {},
      "source": [
        "### One Hot Encoding \n",
        "\n",
        "Do not use sklearn's `sklearn.preprocessing.OneHotEncoder`. Use pandas's `get_dummies()`"
      ],
      "id": "39b10438"
    }
  ],
  "metadata": {
    "kernelspec": {
      "name": "python3",
      "language": "python",
      "display_name": "Python 3 (ipykernel)"
    }
  },
  "nbformat": 4,
  "nbformat_minor": 5
}