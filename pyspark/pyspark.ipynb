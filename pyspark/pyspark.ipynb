{
  "cells": [
    {
      "cell_type": "raw",
      "metadata": {},
      "source": [
        "---\n",
        "title: \"PySpark vs Spark SQL\"\n",
        "format: \n",
        "  html:\n",
        "    toc: false\n",
        "    code-tools: true  \n",
        "    code-copy: true\n",
        "    code-fold: false\n",
        "    self-contained: true\n",
        "    anchor-sections: false\n",
        "    theme: cerulean\n",
        "---"
      ],
      "id": "7973bf39"
    },
    {
      "cell_type": "markdown",
      "metadata": {},
      "source": [
        "Or maybe, pyspark.sql vs. spark.sql?\n",
        "\n",
        "What are the difference between these two? \n",
        "\n",
        "<!-- Here starts the section of the comparisons of the two in column format -->\n",
        "\n",
        "\n",
        ":::::::::::::: {.columns}\n",
        "::: {.column width=\"50%\"}\n",
        "\n",
        "<p align=\"center\">__PySpark__</p>\n",
        "\n",
        "PySpark has the SQL Functions module often imported as `F.function()`. It seems that is where most of the magic is with PySpark. \n",
        "\n",
        "\n",
        ":::\n",
        "::: {.column width=\"50%\"}\n",
        "\n",
        "<p align=\"center\">__Spark SQL__</p>\n",
        "\n",
        "\n",
        "I believe that spark.sql is a SQL port into ANSI SQL. Spark SQL brings SQL to Spark, and this is brought to Python? \n",
        "\n",
        "This has all the things that SQL can do. PySpark has their own versions of SQL things. \n",
        "\n",
        ":::\n",
        "::::::::::::::\n",
        "\n",
        "\n",
        "<h4 align=\"center\">Very Useful Links</h4>\n",
        "\n",
        ":::::::::::::: {.columns}\n",
        "::: {.column width=\"50%\"}\n",
        "\n",
        "\n",
        "- [PySpark Overview w/ API Reference at bottom](https://sparkbyexamples.com/pyspark-tutorial/)\n",
        "- [PySpark Tutorials](https://sparkbyexamples.com/category/pyspark/)\n",
        "\n",
        ":::\n",
        "::: {.column width=\"50%\"}\n",
        "\n",
        "\n",
        "\n",
        "- [SparkbyExample SQL Functions](https://sparkbyexamples.com/spark/spark-sql-functions/)\n",
        "- [Read the Docs-esk style from Apache.org SQL Functions](https://sparkbyexamples.com/spark/spark-sql-functions/)\n",
        "\n",
        ":::\n",
        "::::::::::::::\n",
        "\n",
        "\n",
        "\n",
        "### Window Functions\n",
        "\n",
        "\n",
        "The dplyr equivalent of a window function is a group_by() %>% mutate(). This keeps all the values where group_by() %>% summarize() does not. \n",
        "\n",
        "Partioning and grouping is similar, but different. Instead of gathering data into groups and then summarizing a value by groups and shorten this down into rows unique rows.\n",
        "\n",
        "Would partioning work for making a rolling window?\n",
        "\n",
        "The code to do it in PySpark is "
      ],
      "id": "c4dcd28b"
    },
    {
      "cell_type": "code",
      "metadata": {},
      "source": [
        "#| eval: false\n",
        "\n",
        "from pyspark.sql import Window\n",
        "from pyspark.sql import functions as F\n",
        "\n",
        "windowval = (Window.partitionBy('class').orderBy('time')\n",
        "             .rowsBetween(Window.unboundedPreceding, 0))\n",
        "df_w_cumsum = df.withColumn('cum_sum', F.sum('value').over(windowval))\n",
        "df_w_cumsum.show()\n"
      ],
      "id": "fa5d557b",
      "execution_count": null,
      "outputs": []
    },
    {
      "cell_type": "code",
      "metadata": {},
      "source": [
        "5+5"
      ],
      "id": "3bfbfec3",
      "execution_count": null,
      "outputs": []
    }
  ],
  "metadata": {
    "kernelspec": {
      "name": "python3",
      "language": "python",
      "display_name": "Python 3 (ipykernel)"
    }
  },
  "nbformat": 4,
  "nbformat_minor": 5
}