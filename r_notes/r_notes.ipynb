{
  "cells": [
    {
      "cell_type": "raw",
      "metadata": {},
      "source": [
        "---\n",
        "title: \"R Notes\"\n",
        "format: \n",
        "  html:\n",
        "    toc: false\n",
        "    code-tools: true  \n",
        "    code-copy: true\n",
        "    code-fold: false\n",
        "    self-contained: true\n",
        "    anchor-sections: false\n",
        "    theme: cerulean\n",
        "---"
      ],
      "id": "213cce73"
    },
    {
      "cell_type": "markdown",
      "metadata": {},
      "source": [
        "How to determing the datatype of anything? Use `class()`\n",
        "\n",
        "Example: "
      ],
      "id": "1d50dcd9"
    },
    {
      "cell_type": "code",
      "metadata": {},
      "source": [
        "#| eval: true\n",
        "\n",
        "var = c(1,2,3,4)\n",
        "class(var)\n",
        "\n",
        "string = \"Hello world\"\n",
        "class(string)\n",
        "\n",
        "class(iris$Sepal.Length)\n",
        "class(iris$Species)"
      ],
      "id": "82e3ee46",
      "execution_count": null,
      "outputs": []
    }
  ],
  "metadata": {
    "kernelspec": {
      "name": "python3",
      "language": "python",
      "display_name": "Python 3 (ipykernel)"
    }
  },
  "nbformat": 4,
  "nbformat_minor": 5
}